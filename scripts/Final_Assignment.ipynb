{
 "cells": [
  {
   "cell_type": "code",
   "execution_count": null,
   "id": "aa8e82fd",
   "metadata": {},
   "outputs": [],
   "source": [
    "import pandas as pd\n",
    "import numpy as np\n",
    "import matplotlib.pyplot as plt\n",
    "import scipy.stats as stats\n",
    "import seaborn as sns\n",
    "import rpy2.robjects as ro\n",
    "import rpy2.robjects.pandas2ri as pandas2ri\n",
    "from rpy2.robjects.packages import importr"
   ]
  },
  {
   "cell_type": "code",
   "execution_count": null,
   "id": "ed797334",
   "metadata": {},
   "outputs": [],
   "source": []
  },
  {
   "cell_type": "code",
   "execution_count": null,
   "id": "4607f841",
   "metadata": {},
   "outputs": [],
   "source": []
  },
  {
   "cell_type": "code",
   "execution_count": null,
   "id": "70b6b46b",
   "metadata": {},
   "outputs": [],
   "source": [
    "# Importare DataFrame\n",
    "df = pd.read_excel(r\"/Users/vigji/Downloads/Dataframe_Originale.xlsx\")\n",
    "\n",
    "# Stampare DataFrame Originale\n",
    "print(\"Initial DataFrame:\")\n",
    "print(df)"
   ]
  },
  {
   "cell_type": "code",
   "execution_count": null,
   "id": "fc828b3a",
   "metadata": {},
   "outputs": [],
   "source": [
    "# Tenere solo le colonne utili per le analisi\n",
    "selected_columns = ['Condition','Training','Duration_P1','Duration_P2','Duration_P3','Order_P1','Order_Training','Order_P2','FL_367_DO','FL_373_DO','AccQ1_P1','AccQ2_P1','AccQ3_P1','AccQ4_P1','AccQ1_P2','AccQ2_P2','AccQ3_P2','AccQ4_P2','AccQ1_P3','AccQ2_P3','AccQ3_P3','AccQ4_P3','AccQ5_P3','AccQ6_P3','AccQ7_P3','AccQ8_P3']\n",
    "\n",
    "# Creare un nuovo DataFrame con solo le colonne selezionate\n",
    "simplified_data_pp = df[selected_columns]\n",
    "\n",
    "# Creare una copia del DataFrame\n",
    "simplified_data = simplified_data_pp.copy()\n",
    "\n",
    "# Aggiungere una colonna Subject_ID basata sull'indice\n",
    "simplified_data['Subject_ID'] = simplified_data_pp.index + 1  # Aggiunge un ID unico ai soggetti\n",
    "\n",
    "# Rinominare le colonne FL_367_DO e FL_373_DO\n",
    "simplified_data.rename(columns={'FL_367_DO': 'Order_P3a', 'FL_373_DO': 'Order_P3b'}, inplace=True)\n",
    "\n",
    "#Settare Ordine di presentazione come variabile categoriale\n",
    "simplified_data['Order_P1'] = simplified_data['Order_P1'].astype('category').cat.codes\n",
    "simplified_data['Order_Training'] = simplified_data['Order_Training'].astype('category').cat.codes\n",
    "simplified_data['Order_P2'] = simplified_data['Order_P2'].astype('category').cat.codes\n",
    "simplified_data['Order_P3a'] = simplified_data['Order_P3a'].astype('category').cat.codes\n",
    "simplified_data['Order_P3b'] = simplified_data['Order_P3b'].astype('category').cat.codes\n",
    "\n",
    "# Stampare il nuovo DataFrame\n",
    "print(\"DataFrame after selecting specific columns:\")\n",
    "print(simplified_data)"
   ]
  },
  {
   "cell_type": "code",
   "execution_count": null,
   "id": "38d1b24e",
   "metadata": {},
   "outputs": [],
   "source": [
    "# Rimuovere righe con celle NaN\n",
    "data = simplified_data.dropna()\n",
    "# Stampare nuovo DataFrame\n",
    "print(\"DataFrame after removing rows with NaN value in any column:\")\n",
    "print(data)"
   ]
  },
  {
   "cell_type": "code",
   "execution_count": null,
   "id": "22695fe5",
   "metadata": {},
   "outputs": [],
   "source": [
    "# Trovare media e ds nei tempi di realizzazione\n",
    "mean_times = data[['Duration_P1', 'Duration_P2', 'Duration_P3']].mean()\n",
    "std_times = data[['Duration_P1', 'Duration_P2', 'Duration_P3']].std()\n",
    "\n",
    "print(\"\\nMean times:\")\n",
    "print(mean_times)\n",
    "\n",
    "print(\"\\nStandard Deviation times:\")\n",
    "print(std_times)"
   ]
  },
  {
   "cell_type": "code",
   "execution_count": null,
   "id": "d36f5748",
   "metadata": {},
   "outputs": [],
   "source": [
    "# Identificare i soggetti fuori dal range 2 SD dalla media Duration\n",
    "outliers = ((data[['Duration_P1', 'Duration_P2', 'Duration_P3']] > (mean_times + 2 * std_times)) | \n",
    "            (data[['Duration_P1', 'Duration_P2', 'Duration_P3']] < (mean_times - 2 * std_times))).all(axis=1)\n",
    "\n",
    "# Rimuovere i soggetti outlier\n",
    "filtered_data = data[~outliers].copy()\n",
    "\n",
    "# Stampare nuovo DataFrame\n",
    "print(\"\\nFiltered DataFrame (outliers removed):\")\n",
    "print(filtered_data)"
   ]
  },
  {
   "cell_type": "code",
   "execution_count": null,
   "id": "6473c047",
   "metadata": {},
   "outputs": [],
   "source": [
    "# Trasformare in formato lungo\n",
    "data_long = pd.melt(\n",
    "    filtered_data,\n",
    "    id_vars=['Subject_ID', 'Condition', 'Training'],\n",
    "    value_vars=['AccQ1_P1', 'AccQ2_P1', 'AccQ3_P1', 'AccQ4_P1',\n",
    "                'AccQ1_P2', 'AccQ2_P2', 'AccQ3_P2', 'AccQ4_P2',\n",
    "                'AccQ1_P3', 'AccQ2_P3', 'AccQ3_P3', 'AccQ4_P3',\n",
    "                'AccQ5_P3', 'AccQ6_P3', 'AccQ7_P3', 'AccQ8_P3'],\n",
    "    var_name='Phase',\n",
    "    value_name='Accuracy'\n",
    ")\n",
    "\n",
    "#Sistemare formati variabili\n",
    "data_long['Subject_ID'] = data_long['Subject_ID'].astype('category')\n",
    "data_long['Condition'] = data_long['Condition'].astype('category')\n",
    "data_long['Training'] = data_long['Training'].astype('category')\n",
    "data_long['Phase'] = data_long['Phase'].astype('category')\n",
    "data_long['Accuracy'] = data_long['Accuracy'].astype(int)\n",
    "\n",
    "# Verificare il risultato\n",
    "print(data_long.dtypes)\n",
    "\n",
    "# Mappare le fasi a etichette (P1: Fase 1, P2: Fase 2, etc.)\n",
    "phase_mapping = {\n",
    "    'AccQ1_P1': 'Fase 1', 'AccQ2_P1': 'Fase 1', 'AccQ3_P1': 'Fase 1', 'AccQ4_P1': 'Fase 1',\n",
    "    'AccQ1_P2': 'Fase 2', 'AccQ2_P2': 'Fase 2', 'AccQ3_P2': 'Fase 2', 'AccQ4_P2': 'Fase 2',\n",
    "    'AccQ1_P3': 'Fase 3', 'AccQ2_P3': 'Fase 3', 'AccQ3_P3': 'Fase 3', 'AccQ4_P3': 'Fase 3',\n",
    "    'AccQ5_P3': 'Fase 4', 'AccQ6_P3': 'Fase 4', 'AccQ7_P3': 'Fase 4', 'AccQ8_P3': 'Fase 4'\n",
    "}\n",
    "\n",
    "data_long['Phase'] = data_long['Phase'].map(phase_mapping)\n",
    "\n",
    "# Verificare il risultato\n",
    "print(data_long)"
   ]
  },
  {
   "cell_type": "code",
   "execution_count": null,
   "id": "5fdab0d9-0545-4524-be2a-875fdcdefcbf",
   "metadata": {},
   "outputs": [],
   "source": [
    "# Calcolare l'accuratezza media per Fase, Condizione e Training\n",
    "mean_accuracy = data_long.groupby(['Phase', 'Condition', 'Training'])['Accuracy'].mean().reset_index()\n"
   ]
  },
  {
   "cell_type": "code",
   "execution_count": null,
   "id": "f5de6f8e-a078-44cd-ab63-85cbd90d1a88",
   "metadata": {},
   "outputs": [],
   "source": [
    "# Impostare la dimensione della figura\n",
    "plt.figure(figsize=(12, 6))\n",
    "\n",
    "# Creare un grafico a linee\n",
    "sns.lineplot(data=mean_accuracy,\n",
    "             x='Phase',\n",
    "             y='Accuracy',\n",
    "             hue='Condition', #Impostare Colore in base a 'Condition'\n",
    "             style='Training', #Impostare Stile in base a 'Training'\n",
    "             markers=True, dashes=False)\n",
    "\n",
    "# Aggiungi titoli e etichette\n",
    "plt.title('Accuratezza Media per Fase, Condizione e Training')\n",
    "plt.xlabel('Phase')\n",
    "plt.ylabel('Mean Accuracy')\n",
    "plt.legend(title='Condition and Training')\n",
    "plt.grid(True)\n",
    "plt.tight_layout()\n",
    "\n",
    "# Mostra il grafico\n",
    "plt.show()"
   ]
  },
  {
   "cell_type": "code",
   "execution_count": null,
   "id": "7ce9c8ca",
   "metadata": {
    "scrolled": true
   },
   "outputs": [],
   "source": [
    "# Istogramma e grafico della densità per verifica normalità\n",
    "plt.figure(figsize=(12, 6))\n",
    "sns.histplot(data_long['Accuracy'], kde=True)\n",
    "plt.title('Istogramma Accuracy')\n",
    "plt.xlabel('Accuracy')\n",
    "plt.ylabel('Frequency')\n",
    "plt.show()\n",
    "\n",
    "# Q-Q plot per la distribuzione normale\n",
    "plt.figure(figsize=(6, 6))\n",
    "stats.probplot(data_long['Accuracy'], dist=\"norm\", plot=plt)\n",
    "plt.title('Q-Q Plot della Accuracy')\n",
    "plt.show()\n",
    "\n",
    "#Eseguire il Test di Normalità\n",
    "# Test di Shapiro-Wilk\n",
    "stat, p = stats.shapiro(data_long['Accuracy'])\n",
    "print(f'Shapiro-Wilk Test: Statistic={stat:.3f}, p-value={p:.3f}')\n",
    "    \n",
    "# Test di Kolmogorov-Smirnov\n",
    "stat, p = stats.kstest(data_long['Accuracy'], 'norm', args=(data_long['Accuracy'].mean(), data_long['Accuracy'].std()))\n",
    "print(f'Kolmogorov-Smirnov Test: Statistic={stat:.3f}, p-value={p:.3f}')"
   ]
  },
  {
   "cell_type": "code",
   "execution_count": null,
   "id": "7b465b5d-b0ef-4200-8224-e546a2797712",
   "metadata": {},
   "outputs": [],
   "source": [
    "# Attivare la conversione automatica tra pandas e R\n",
    "pandas2ri.activate()\n",
    "\n",
    "# Caricare i pacchetti necessari in R\n",
    "lme4 = importr('lme4')\n",
    "stats = importr('stats')\n",
    "\n",
    "# Convertire le colonne categoriali in stringhe (altrimenti errore)\n",
    "data_long['Phase'] = data_long['Phase'].astype(str)\n",
    "data_long['Condition'] = data_long['Condition'].astype(str)\n",
    "data_long['Training'] = data_long['Training'].astype(str)\n",
    "\n",
    "# Convertire il DataFrame pandas in un DataFrame R\n",
    "data_long_r = pandas2ri.py2rpy(data_long)\n",
    "\n",
    "# Definire il DataFrame in R\n",
    "ro.globalenv['data_long'] = data_long_r\n"
   ]
  },
  {
   "cell_type": "code",
   "execution_count": null,
   "id": "be41f340-95c9-4c64-abb2-acc7d60c6031",
   "metadata": {},
   "outputs": [],
   "source": [
    "# Cambiare i formati delle variabili\n",
    "ro.r('''data_long$Subject_ID <- as.factor(data_long$Subject_ID)\n",
    "        data_long$Phase <- as.factor(data_long$Phase)\n",
    "        data_long$Condition <- as.factor(data_long$Condition)\n",
    "        data_long$Training <- as.factor(data_long$Training)\n",
    "''')\n",
    "\n",
    "#Verificare l'avvenuta conversione\n",
    "ro.r('''sapply(data_long, class)\n",
    "''')"
   ]
  },
  {
   "cell_type": "code",
   "execution_count": null,
   "id": "221232fc-fdbe-4066-9fde-7d838a134091",
   "metadata": {},
   "outputs": [],
   "source": [
    "# Eseguire il codice R per il modello GLMM\n",
    "ro.r('''\n",
    "library(lme4)\n",
    "\n",
    "# Modificare la variabile 'Accuracy' per essere binaria\n",
    "data_long$Accuracy <- as.factor(data_long$Accuracy)\n",
    "\n",
    "# Specificare il modello GLMM\n",
    "model <- glmer(Accuracy ~ Condition * Training * Phase + (1 | Subject_ID), \n",
    "               data = data_long, \n",
    "               family = binomial,\n",
    "               control = glmerControl(optimizer = \"bobyqa\", optCtrl = list(maxfun = 100000)))\n",
    "               \n",
    "# Ottenere il sommario del modello\n",
    "model_summary <- summary(model)\n",
    "''')"
   ]
  },
  {
   "cell_type": "code",
   "execution_count": null,
   "id": "a391a980-ca65-4486-b75d-0bf1e532f1d3",
   "metadata": {},
   "outputs": [],
   "source": [
    "# Ottenere l'oggetto R model_summary in Python\n",
    "model_summary = ro.r('model_summary')\n",
    "\n",
    "# Stampare il sommario\n",
    "print(model_summary)"
   ]
  },
  {
   "cell_type": "code",
   "execution_count": null,
   "id": "2541fca9-fffb-4ee4-8ed7-d577b6d9fa65",
   "metadata": {
    "scrolled": true
   },
   "outputs": [],
   "source": [
    "#Eseguire Contrasti con correzione di Bonferroni\n",
    "ro.r('''\n",
    "\n",
    "library(emmeans)\n",
    "\n",
    "# Calcolare le \"estimated marginal means\"\n",
    "emm <- emmeans(model, ~ Condition * Training * Phase)\n",
    "\n",
    "# Visualizzare le emmeans\n",
    "emm\n",
    "\n",
    "# Fare Contrasti con conrrezione Bonferroni\n",
    "pairwise_comparisons <- contrast(emm, method = \"pairwise\")\n",
    "results <- summary(pairwise_comparisons, adjust = \"bonferroni\")\n",
    "\n",
    "# Filtrare i risultati con p-value < 0.05\n",
    "significant_results <- results[results$p.value < 0.05, ]\n",
    "\n",
    "# Visualizzare i risultati significativi\n",
    "print(significant_results)\n",
    "\n",
    "''')"
   ]
  },
  {
   "cell_type": "code",
   "execution_count": null,
   "id": "d37500bb-6073-4dc0-9cf5-e307640028e1",
   "metadata": {},
   "outputs": [],
   "source": []
  }
 ],
 "metadata": {
  "kernelspec": {
   "display_name": "course-env",
   "language": "python",
   "name": "python3"
  },
  "language_info": {
   "codemirror_mode": {
    "name": "ipython",
    "version": 3
   },
   "file_extension": ".py",
   "mimetype": "text/x-python",
   "name": "python",
   "nbconvert_exporter": "python",
   "pygments_lexer": "ipython3",
   "version": "3.10.13"
  }
 },
 "nbformat": 4,
 "nbformat_minor": 5
}
